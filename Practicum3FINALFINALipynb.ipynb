{
  "cells": [
    {
      "cell_type": "markdown",
      "id": "626c083b475f5f29",
      "metadata": {
        "id": "626c083b475f5f29"
      },
      "source": [
        "# Practicum 3: Model Development and Tuning"
      ]
    },
    {
      "cell_type": "markdown",
      "id": "1a7578de57e0d0f3",
      "metadata": {
        "id": "1a7578de57e0d0f3"
      },
      "source": [
        "### Question 1 — The DS Problem (0 point)\n",
        "\n",
        "In your own words, formulate the Data Science problem.\n"
      ]
    },
    {
      "cell_type": "markdown",
      "id": "805397f22705a98",
      "metadata": {
        "id": "805397f22705a98"
      },
      "source": [
        "The main goal of this project is to figure out how different health factors and social conditions are connected to diabetes outcomes. We want to look at things like BMI, physical activity, mental health, and socioeconomic factors to see how they might influence whether someone has no diabetes, prediabetes, or diabetes. By understanding these patterns, we hope to come up with helpful insights that can make it easier to prevent or manage diabetes and improve healthcare decisions."
      ]
    },
    {
      "cell_type": "markdown",
      "id": "b19d8a0c56c4374c",
      "metadata": {
        "id": "b19d8a0c56c4374c"
      },
      "source": [
        "### Question 2 — Prepare the Data (5 pts)\n",
        "\n",
        "Evaluate the dataset to determine if ALL variables are represented in their expected type. Convert variables to suitable data types for ML modeling. This means that you need to identify categorical data, discrete and continuous variables represent them accordingly.\n",
        "Analyze the data to determine what preprocessing steps are needed to ensure that the following are handled: 1) missing values, 2) invalid values, 3) outliers. Perform the required data preparation steps and justify the approach that is taken to prepare the data for analysis.\n"
      ]
    },
    {
      "cell_type": "code",
      "execution_count": 1,
      "id": "ab2ebead8a9058d0",
      "metadata": {
        "ExecuteTime": {
          "end_time": "2024-12-06T18:37:18.885237Z",
          "start_time": "2024-12-06T18:37:18.882836Z"
        },
        "id": "ab2ebead8a9058d0"
      },
      "outputs": [],
      "source": [
        "# Imports\n",
        "\n",
        "import pandas as pd\n",
        "import matplotlib.pyplot as plt\n",
        "from sklearn.decomposition import PCA\n",
        "from sklearn.preprocessing import StandardScaler\n",
        "import seaborn as sns\n",
        "from scipy.stats import f_oneway\n",
        "from sklearn.model_selection import train_test_split, GridSearchCV\n",
        "from sklearn.svm import SVC\n",
        "from sklearn.neighbors import KNeighborsClassifier\n",
        "from sklearn.ensemble import RandomForestClassifier\n",
        "from sklearn.metrics import classification_report, accuracy_score, mean_squared_error\n"
      ]
    },
    {
      "cell_type": "code",
      "execution_count": 2,
      "id": "5222314185a183d3",
      "metadata": {
        "ExecuteTime": {
          "end_time": "2024-12-06T18:37:20.267937Z",
          "start_time": "2024-12-06T18:37:19.329192Z"
        },
        "colab": {
          "base_uri": "https://localhost:8080/",
          "height": 382
        },
        "id": "5222314185a183d3",
        "outputId": "9073bf29-09af-43c0-9bbe-329a3e01af35"
      },
      "outputs": [
        {
          "output_type": "error",
          "ename": "FileNotFoundError",
          "evalue": "[Errno 2] No such file or directory: 'diabetes_012_health_indicators_BRFSS2015.csv'",
          "traceback": [
            "\u001b[0;31m---------------------------------------------------------------------------\u001b[0m",
            "\u001b[0;31mFileNotFoundError\u001b[0m                         Traceback (most recent call last)",
            "\u001b[0;32m<ipython-input-2-7478a56a2cb2>\u001b[0m in \u001b[0;36m<cell line: 2>\u001b[0;34m()\u001b[0m\n\u001b[1;32m      1\u001b[0m \u001b[0;31m# Data Cleaning\u001b[0m\u001b[0;34m\u001b[0m\u001b[0;34m\u001b[0m\u001b[0m\n\u001b[0;32m----> 2\u001b[0;31m \u001b[0mdf\u001b[0m \u001b[0;34m=\u001b[0m \u001b[0mpd\u001b[0m\u001b[0;34m.\u001b[0m\u001b[0mread_csv\u001b[0m\u001b[0;34m(\u001b[0m\u001b[0;34m'diabetes_012_health_indicators_BRFSS2015.csv'\u001b[0m\u001b[0;34m)\u001b[0m\u001b[0;34m\u001b[0m\u001b[0;34m\u001b[0m\u001b[0m\n\u001b[0m\u001b[1;32m      3\u001b[0m \u001b[0mprint\u001b[0m\u001b[0;34m(\u001b[0m\u001b[0mdf\u001b[0m\u001b[0;34m.\u001b[0m\u001b[0mhead\u001b[0m\u001b[0;34m(\u001b[0m\u001b[0;34m)\u001b[0m\u001b[0;34m)\u001b[0m\u001b[0;34m\u001b[0m\u001b[0;34m\u001b[0m\u001b[0m\n\u001b[1;32m      4\u001b[0m \u001b[0;34m\u001b[0m\u001b[0m\n\u001b[1;32m      5\u001b[0m \u001b[0;31m# Checking variable types\u001b[0m\u001b[0;34m\u001b[0m\u001b[0;34m\u001b[0m\u001b[0m\n",
            "\u001b[0;32m/usr/local/lib/python3.10/dist-packages/pandas/io/parsers/readers.py\u001b[0m in \u001b[0;36mread_csv\u001b[0;34m(filepath_or_buffer, sep, delimiter, header, names, index_col, usecols, dtype, engine, converters, true_values, false_values, skipinitialspace, skiprows, skipfooter, nrows, na_values, keep_default_na, na_filter, verbose, skip_blank_lines, parse_dates, infer_datetime_format, keep_date_col, date_parser, date_format, dayfirst, cache_dates, iterator, chunksize, compression, thousands, decimal, lineterminator, quotechar, quoting, doublequote, escapechar, comment, encoding, encoding_errors, dialect, on_bad_lines, delim_whitespace, low_memory, memory_map, float_precision, storage_options, dtype_backend)\u001b[0m\n\u001b[1;32m   1024\u001b[0m     \u001b[0mkwds\u001b[0m\u001b[0;34m.\u001b[0m\u001b[0mupdate\u001b[0m\u001b[0;34m(\u001b[0m\u001b[0mkwds_defaults\u001b[0m\u001b[0;34m)\u001b[0m\u001b[0;34m\u001b[0m\u001b[0;34m\u001b[0m\u001b[0m\n\u001b[1;32m   1025\u001b[0m \u001b[0;34m\u001b[0m\u001b[0m\n\u001b[0;32m-> 1026\u001b[0;31m     \u001b[0;32mreturn\u001b[0m \u001b[0m_read\u001b[0m\u001b[0;34m(\u001b[0m\u001b[0mfilepath_or_buffer\u001b[0m\u001b[0;34m,\u001b[0m \u001b[0mkwds\u001b[0m\u001b[0;34m)\u001b[0m\u001b[0;34m\u001b[0m\u001b[0;34m\u001b[0m\u001b[0m\n\u001b[0m\u001b[1;32m   1027\u001b[0m \u001b[0;34m\u001b[0m\u001b[0m\n\u001b[1;32m   1028\u001b[0m \u001b[0;34m\u001b[0m\u001b[0m\n",
            "\u001b[0;32m/usr/local/lib/python3.10/dist-packages/pandas/io/parsers/readers.py\u001b[0m in \u001b[0;36m_read\u001b[0;34m(filepath_or_buffer, kwds)\u001b[0m\n\u001b[1;32m    618\u001b[0m \u001b[0;34m\u001b[0m\u001b[0m\n\u001b[1;32m    619\u001b[0m     \u001b[0;31m# Create the parser.\u001b[0m\u001b[0;34m\u001b[0m\u001b[0;34m\u001b[0m\u001b[0m\n\u001b[0;32m--> 620\u001b[0;31m     \u001b[0mparser\u001b[0m \u001b[0;34m=\u001b[0m \u001b[0mTextFileReader\u001b[0m\u001b[0;34m(\u001b[0m\u001b[0mfilepath_or_buffer\u001b[0m\u001b[0;34m,\u001b[0m \u001b[0;34m**\u001b[0m\u001b[0mkwds\u001b[0m\u001b[0;34m)\u001b[0m\u001b[0;34m\u001b[0m\u001b[0;34m\u001b[0m\u001b[0m\n\u001b[0m\u001b[1;32m    621\u001b[0m \u001b[0;34m\u001b[0m\u001b[0m\n\u001b[1;32m    622\u001b[0m     \u001b[0;32mif\u001b[0m \u001b[0mchunksize\u001b[0m \u001b[0;32mor\u001b[0m \u001b[0miterator\u001b[0m\u001b[0;34m:\u001b[0m\u001b[0;34m\u001b[0m\u001b[0;34m\u001b[0m\u001b[0m\n",
            "\u001b[0;32m/usr/local/lib/python3.10/dist-packages/pandas/io/parsers/readers.py\u001b[0m in \u001b[0;36m__init__\u001b[0;34m(self, f, engine, **kwds)\u001b[0m\n\u001b[1;32m   1618\u001b[0m \u001b[0;34m\u001b[0m\u001b[0m\n\u001b[1;32m   1619\u001b[0m         \u001b[0mself\u001b[0m\u001b[0;34m.\u001b[0m\u001b[0mhandles\u001b[0m\u001b[0;34m:\u001b[0m \u001b[0mIOHandles\u001b[0m \u001b[0;34m|\u001b[0m \u001b[0;32mNone\u001b[0m \u001b[0;34m=\u001b[0m \u001b[0;32mNone\u001b[0m\u001b[0;34m\u001b[0m\u001b[0;34m\u001b[0m\u001b[0m\n\u001b[0;32m-> 1620\u001b[0;31m         \u001b[0mself\u001b[0m\u001b[0;34m.\u001b[0m\u001b[0m_engine\u001b[0m \u001b[0;34m=\u001b[0m \u001b[0mself\u001b[0m\u001b[0;34m.\u001b[0m\u001b[0m_make_engine\u001b[0m\u001b[0;34m(\u001b[0m\u001b[0mf\u001b[0m\u001b[0;34m,\u001b[0m \u001b[0mself\u001b[0m\u001b[0;34m.\u001b[0m\u001b[0mengine\u001b[0m\u001b[0;34m)\u001b[0m\u001b[0;34m\u001b[0m\u001b[0;34m\u001b[0m\u001b[0m\n\u001b[0m\u001b[1;32m   1621\u001b[0m \u001b[0;34m\u001b[0m\u001b[0m\n\u001b[1;32m   1622\u001b[0m     \u001b[0;32mdef\u001b[0m \u001b[0mclose\u001b[0m\u001b[0;34m(\u001b[0m\u001b[0mself\u001b[0m\u001b[0;34m)\u001b[0m \u001b[0;34m->\u001b[0m \u001b[0;32mNone\u001b[0m\u001b[0;34m:\u001b[0m\u001b[0;34m\u001b[0m\u001b[0;34m\u001b[0m\u001b[0m\n",
            "\u001b[0;32m/usr/local/lib/python3.10/dist-packages/pandas/io/parsers/readers.py\u001b[0m in \u001b[0;36m_make_engine\u001b[0;34m(self, f, engine)\u001b[0m\n\u001b[1;32m   1878\u001b[0m                 \u001b[0;32mif\u001b[0m \u001b[0;34m\"b\"\u001b[0m \u001b[0;32mnot\u001b[0m \u001b[0;32min\u001b[0m \u001b[0mmode\u001b[0m\u001b[0;34m:\u001b[0m\u001b[0;34m\u001b[0m\u001b[0;34m\u001b[0m\u001b[0m\n\u001b[1;32m   1879\u001b[0m                     \u001b[0mmode\u001b[0m \u001b[0;34m+=\u001b[0m \u001b[0;34m\"b\"\u001b[0m\u001b[0;34m\u001b[0m\u001b[0;34m\u001b[0m\u001b[0m\n\u001b[0;32m-> 1880\u001b[0;31m             self.handles = get_handle(\n\u001b[0m\u001b[1;32m   1881\u001b[0m                 \u001b[0mf\u001b[0m\u001b[0;34m,\u001b[0m\u001b[0;34m\u001b[0m\u001b[0;34m\u001b[0m\u001b[0m\n\u001b[1;32m   1882\u001b[0m                 \u001b[0mmode\u001b[0m\u001b[0;34m,\u001b[0m\u001b[0;34m\u001b[0m\u001b[0;34m\u001b[0m\u001b[0m\n",
            "\u001b[0;32m/usr/local/lib/python3.10/dist-packages/pandas/io/common.py\u001b[0m in \u001b[0;36mget_handle\u001b[0;34m(path_or_buf, mode, encoding, compression, memory_map, is_text, errors, storage_options)\u001b[0m\n\u001b[1;32m    871\u001b[0m         \u001b[0;32mif\u001b[0m \u001b[0mioargs\u001b[0m\u001b[0;34m.\u001b[0m\u001b[0mencoding\u001b[0m \u001b[0;32mand\u001b[0m \u001b[0;34m\"b\"\u001b[0m \u001b[0;32mnot\u001b[0m \u001b[0;32min\u001b[0m \u001b[0mioargs\u001b[0m\u001b[0;34m.\u001b[0m\u001b[0mmode\u001b[0m\u001b[0;34m:\u001b[0m\u001b[0;34m\u001b[0m\u001b[0;34m\u001b[0m\u001b[0m\n\u001b[1;32m    872\u001b[0m             \u001b[0;31m# Encoding\u001b[0m\u001b[0;34m\u001b[0m\u001b[0;34m\u001b[0m\u001b[0m\n\u001b[0;32m--> 873\u001b[0;31m             handle = open(\n\u001b[0m\u001b[1;32m    874\u001b[0m                 \u001b[0mhandle\u001b[0m\u001b[0;34m,\u001b[0m\u001b[0;34m\u001b[0m\u001b[0;34m\u001b[0m\u001b[0m\n\u001b[1;32m    875\u001b[0m                 \u001b[0mioargs\u001b[0m\u001b[0;34m.\u001b[0m\u001b[0mmode\u001b[0m\u001b[0;34m,\u001b[0m\u001b[0;34m\u001b[0m\u001b[0;34m\u001b[0m\u001b[0m\n",
            "\u001b[0;31mFileNotFoundError\u001b[0m: [Errno 2] No such file or directory: 'diabetes_012_health_indicators_BRFSS2015.csv'"
          ]
        }
      ],
      "source": [
        "\n",
        "# Data Cleaning\n",
        "df = pd.read_csv('diabetes_012_health_indicators_BRFSS2015.csv')\n",
        "print(df.head())\n",
        "\n",
        "# Checking variable types\n",
        "print(df.dtypes)\n",
        "\n",
        "# Dropping NaN and duplicate values\n",
        "df = df.dropna(axis=0, how='any')\n",
        "df = df.drop_duplicates()\n",
        "\n",
        "# Describing data\n",
        "print(df.describe())\n",
        "\n",
        "# Continuous variables worth checking\n",
        "cont = ['BMI', 'MentHlth', 'PhysHlth']\n",
        "\n",
        "# Box plot for each column\n",
        "for col in ['BMI', 'MentHlth', 'PhysHlth']:\n",
        "    plt.figure()\n",
        "    df.boxplot(column=col)\n",
        "    plt.title(f'Box Plot for {col}')\n",
        "    plt.show()\n",
        "\n",
        "# Find outliers\n",
        "def drop_outliers(df, column):\n",
        "    q1 = df[column].quantile(0.25)\n",
        "    q3 = df[column].quantile(0.75)\n",
        "    iqr = q3 - q1\n",
        "    lower_bound = q1 - 1.5 * iqr\n",
        "    upper_bound = q3 + 1.5 * iqr\n",
        "    filtered_df = df[(df[column] > upper_bound) |  (df[column] < lower_bound)]\n",
        "    return filtered_df\n",
        "\n",
        "# Drop outliers\n",
        "filtered_df = drop_outliers(df, 'MentHlth')\n",
        "filtered_df = drop_outliers(df, 'PhysHlth')\n",
        "filtered_df = drop_outliers(df, 'BMI')\n",
        "\n",
        "print(f\"OG dataset shape: {df.shape}\")\n",
        "print(f\"Filtered dataset shape: {filtered_df.shape}\")"
      ]
    },
    {
      "cell_type": "markdown",
      "id": "d8338c10d088b80f",
      "metadata": {
        "id": "d8338c10d088b80f"
      },
      "source": [
        "To prepare the dataset, we first loaded it and examined the variable types. Categorical variables, such as HighBP, HighChol, and Diabetes_012 (the target variable), represent distinct groups or conditions and are encoded as integers. Continuous variables, including BMI, MentHlth, and PhysHlth, are stored as floats since they represent measurements on a continuous scale. Discrete variables, such as Age, Education, and Income, are represented as integers and take on whole-number values within a finite range. Missing values were removed using dropna(), and duplicate rows were eliminated using drop_duplicates() to ensure data integrity. The dataset was summarized using descriptive statistics to identify key patterns and anomalies. Continuous variables (BMI, MentHlth, and PhysHlth) were visualized with box plots to detect outliers. Outliers were identified using the Interquartile Range (IQR) method, with values outside 1.5 times the IQR flagged for removal. This process involved calculating the lower and upper bounds for each variable and filtering out entries that fell outside these thresholds. The final dataset, now free of missing values, duplicates, and outliers, was ready for analysis, ensuring clean and reliable data for further exploration and modeling."
      ]
    },
    {
      "cell_type": "markdown",
      "id": "338734cb6bb75b27",
      "metadata": {
        "id": "338734cb6bb75b27"
      },
      "source": [
        "### Question 3 — (20 points)\n",
        "\n",
        "Perform exploratory data analysis. Ensure that you analyze the relationships between the various features and social determinants of health in the dataset, and the diabetic outcomes. Create visualizations to demonstrate your findings and explain the results.\n"
      ]
    },
    {
      "cell_type": "code",
      "execution_count": null,
      "id": "722cab8147accbb0",
      "metadata": {
        "ExecuteTime": {
          "end_time": "2024-12-06T19:10:25.928627Z",
          "start_time": "2024-12-06T19:10:25.136553Z"
        },
        "id": "722cab8147accbb0"
      },
      "outputs": [],
      "source": [
        "# Exploratory data analysis\n",
        "\n",
        "# Correlation map\n",
        "plt.figure(figsize=(14,8))\n",
        "correlation_matrix = filtered_df.corr()\n",
        "sns.heatmap(correlation_matrix, annot=True)\n",
        "plt.title(\"Correlation Heatmap\", size=30)\n",
        "plt.show()\n",
        "print(\"The correlation heatmap reveals significant relationships between various features in the dataset. Diabetes outcomes exhibit moderate positive correlations with BMI, age, and general health, suggesting that higher BMI, older age, and poorer general health are strongly associated with diabetes. Physical activity is negatively correlated with diabetes outcomes, indicating that increased physical activity is linked to a reduced risk of diabetes. Socioeconomic factors like income and education show weaker negative correlations with diabetes outcomes, hinting at being potentially influence.\")\n",
        "\n",
        "# Diabetes Diagnoses distribution\n",
        "sns.countplot(x=\"Diabetes_012\", data=filtered_df)\n",
        "plt.title(\"Distribution of Diabetes Results\", size=20)\n",
        "plt.xlabel(\"Diabetes Diagnoses (0 = No Diabetes, 1 = Prediabetes, 2 = Diabetes)\")\n",
        "plt.ylabel(\"Count\")\n",
        "plt.show()\n",
        "print(\"The distribution of diabetes results highlights an imbalanced dataset, with the majority of individuals having no diabetes (0), followed by fewer cases of prediabetes (1) and diabetes (2). This makes sense since the majority of the population, thankfully, does not have diabetes. This skewed distribution reflects the general population trend but also underscores the need for balanced sampling in predictive modeling.\")\n",
        "\n",
        "# BMI vs. Diabetes Diagnoses\n",
        "sns.boxplot(x=\"Diabetes_012\", y=\"BMI\", data=filtered_df)\n",
        "plt.title(\"BMI vs. Diabetes Diagnoses\", size=20)\n",
        "plt.xlabel(\"Diabetes Diagnoses\")\n",
        "plt.ylabel(\"BMI\")\n",
        "plt.show()\n",
        "print(\"The BMI vs. diabetes diagnoses box plot indicates that median BMI increases as diabetes outcomes progress from 0 (no diabetes) to 2 (diabetes). This suggests that higher BMI is a significant risk factor for diabetes. Additionally, the wider range of BMI values among individuals with diabetes highlights the variability in how BMI relates to the condition.\")\n",
        "\n",
        "# Income vs. Diabetes Diagnoses\n",
        "sns.boxplot(x=\"Diabetes_012\", y=\"Income\", data=filtered_df)\n",
        "plt.title(\"Income vs. Diabetes Diagnoses\", size=20)\n",
        "plt.xlabel(\"Diabetes Diagnoses\")\n",
        "plt.ylabel(\"Income\")\n",
        "plt.show()\n",
        "print(\"The income vs. diabetes diagnoses box plot shows that people with diabetes (2) tend to have lower median incomes compared to those without diabetes (0). The plot also shows how the range of income levels narrows as diabetes outcomes progress, implying that lower income may be linked to a higher risk of diabetes (potentially due to reduced access to healthcare or healthy lifestyle choices).\")\n",
        "\n",
        "# Age vs. Diabetes Diagnoses\n",
        "sns.boxplot(x=\"Diabetes_012\", y=\"Age\", data=filtered_df)\n",
        "plt.title(\"Age vs. Diabetes Diagnoses\", size=20)\n",
        "plt.xlabel(\"Diabetes Diagnoses\")\n",
        "plt.ylabel(\"Age\")\n",
        "plt.show()\n",
        "print(\"The age vs. diabetes diagnoses box plot visualizes how the median age increases as diabetes diagnoses progress from 0 (no diabetes) to 2 (diabetes), indicating that older individuals are more likely to develop diabetes. Notably, there are a few outliers in the younger age range for those diagnosed with diabetes, emphasizing that while diabetes is more common in older populations, it can still affect younger individuals. This plot highlights the strong influence of age on diabetes risk.\")\n",
        "\n",
        "# General Health vs. Diabetes Diagnoses\n",
        "sns.boxplot(x=\"Diabetes_012\", y=\"GenHlth\", data=filtered_df)\n",
        "plt.title(\"General Health vs. Diabetes Diagnoses\", size=20)\n",
        "plt.xlabel(\"Diabetes Diagnoses\")\n",
        "plt.ylabel(\"General Health (1-5 in order of healthiest to least healthy)\")\n",
        "plt.show()\n",
        "print(\"Lastly, the general health vs. diabetes diagnoses box plot illustrates that self-reported general health worsens with the progression of diabetes diagnoses. Those with diabetes (2) report the poorest health, with the highest median scores, reflecting a clear decline in overall health as diabetes advances. This reinforces the strong association between diabetes and deteriorating physical health.\")\n",
        "\n",
        "\n"
      ]
    },
    {
      "cell_type": "markdown",
      "id": "b2ae8b83bff50a07",
      "metadata": {
        "id": "b2ae8b83bff50a07"
      },
      "source": [
        "### Question 4a — (20 points)\n",
        "\n",
        "Perform significance tests to determine if the patterns that are detected above are statistically significant. Ensure that you discuss at least three patterns and the respective p-values.\n",
        "Select the features that will be used in the ML models (i.e. your selected features should be based on analytical reasoning that demonstrates their utility for ML modeling. Do not arbitrarily select features.\n",
        "Note: if you are using correlations, ensure that this is only performed using continuous variables.\n"
      ]
    },
    {
      "cell_type": "code",
      "execution_count": null,
      "id": "73e77267c3bcf385",
      "metadata": {
        "id": "73e77267c3bcf385"
      },
      "outputs": [],
      "source": [
        "\n",
        "# Function to test significance and print results\n",
        "def test_significance(feature_name, anova_result):\n",
        "    print(f\"ANOVA Test for {feature_name} vs. Diabetes Diagnosis: F-statistic={anova_result.statistic:.2f}, p-value={anova_result.pvalue:.4f}\")\n",
        "    if anova_result.pvalue < 0.05:\n",
        "        print(f\"Result: {feature_name} shows a statistically significant difference across diabetes categories (p < 0.05).\\n\")\n",
        "    else:\n",
        "        print(f\"Result: {feature_name} does NOT show a statistically significant difference across diabetes categories (p >= 0.05).\\n\")\n",
        "\n",
        "# ANOVA for BMI vs. Diabetes Diagnosis\n",
        "anova_bmi = f_oneway(\n",
        "    filtered_df[filtered_df['Diabetes_012'] == 0]['BMI'],\n",
        "    filtered_df[filtered_df['Diabetes_012'] == 1]['BMI'],\n",
        "    filtered_df[filtered_df['Diabetes_012'] == 2]['BMI']\n",
        ")\n",
        "test_significance(\"BMI\", anova_bmi)\n",
        "\n",
        "# ANOVA for Income vs. Diabetes Diagnosis\n",
        "anova_income = f_oneway(\n",
        "    filtered_df[filtered_df['Diabetes_012'] == 0]['Income'],\n",
        "    filtered_df[filtered_df['Diabetes_012'] == 1]['Income'],\n",
        "    filtered_df[filtered_df['Diabetes_012'] == 2]['Income']\n",
        ")\n",
        "test_significance(\"Income\", anova_income)\n",
        "\n",
        "# ANOVA for Age vs. Diabetes Diagnosis\n",
        "anova_age = f_oneway(\n",
        "    filtered_df[filtered_df['Diabetes_012'] == 0]['Age'],\n",
        "    filtered_df[filtered_df['Diabetes_012'] == 1]['Age'],\n",
        "    filtered_df[filtered_df['Diabetes_012'] == 2]['Age']\n",
        ")\n",
        "test_significance(\"Age\", anova_age)\n"
      ]
    },
    {
      "cell_type": "markdown",
      "id": "df2ca7e6",
      "metadata": {
        "id": "df2ca7e6"
      },
      "source": [
        "I perform 3 ANOVA tests on the correlation of continous variables against a categorical. Here, I test if BMI, Income level, and age show a statistically significant difference between the categories of Diabetic(nondiabetic, prediabetic, and diabetic).\n",
        "\n",
        "The ANOVA test for all three features returned a p-value that rounded down to 0.0000 - meaning there is effectively 0% probability that the differences in BMI, Age, and Income across the categories of diabetic are caused by random chance. We are able to reject the null hypothesis that there is no correlation between:\n",
        "\n",
        "BMI and Diabetic Status\n",
        "Income and Diabetic Status\n",
        "Age and Diabetic Status\n",
        "\n",
        "And declare each relationship statistically significant.\n",
        "\n",
        "Because of this correlation, it is useful to interrogate whether these features would strengthen an ML classification model that would classify a person into nondiabetic, prediabetic, and diabetic. BMI would likely be a strong predictive feature, as BMI is often indicative of high body fat percentage -- which has been established as a a risk factor for type 2 diabetes(See 1). Income is predictive of many other diseases and causes of mortality, which indicates some processes by which lower income people see worsened health outcomes. Frequent and adequate medical visits are not distributed equally across income(See 2). Thus, these populations may see worsened general medical outcomes. This too could be an important consideration when classifying a person into a diabetic status. Lastly, age is a strong predictor of diabetes, as studies show that a body's cells become less sensitive to insulin as they age(see 3), leading to the symptoms of diabetes. With this link established, age too could be an important consideration in this predictive model.\n",
        "\n",
        "1: https://pmc.ncbi.nlm.nih.gov/articles/PMC6915175/\n",
        "\n",
        "2: https://pmc.ncbi.nlm.nih.gov/articles/PMC3312363/\n",
        "\n",
        "3: https://pmc.ncbi.nlm.nih.gov/articles/PMC5509969/"
      ]
    },
    {
      "cell_type": "markdown",
      "id": "b9eaac3729bc38ad",
      "metadata": {
        "id": "b9eaac3729bc38ad"
      },
      "source": [
        "### [Optional] Question 4b — (10 points)\n",
        "This is an optional challenge question. Its purpose is to identify new features that can be included in the ML modeling below.\n",
        "\n",
        "Perform ONE of the following\n",
        "(1) Feature engineering: Machine learning models can benefit greatly from feature engineering. Create a new feature that can be included in the model and perform significance testing to determine if it's statistically significant. Explain the results and justify if the feature will be included in the ML model. If you decide that you will not include the new feature in the ML model, explain the reasons.\n",
        "OR\n",
        "(2) Statistical tests: Research a new type of statistical test that was not introduced in the lecture and write python code to demonstrate at least two significance tests between features in the dataset. Explain the results and justify if the feature will be included in the ML model. If you decide that you will not include the analyzed feature(s) in the ML model, explain the reasons. Note: you are welcome to use libraries to perform the tests."
      ]
    },
    {
      "cell_type": "code",
      "execution_count": null,
      "id": "4de0296342eb9ae6",
      "metadata": {
        "id": "4de0296342eb9ae6"
      },
      "outputs": [],
      "source": [
        "# Selecting the continuous variables to apply PCA\n",
        "cont_cols = ['GenHlth', 'MentHlth', 'PhysHlth']\n",
        "\n",
        "# Standardize the data (important for PCA)\n",
        "scaler = StandardScaler()\n",
        "scaled_data = scaler.fit_transform(filtered_df[cont_cols])\n",
        "\n",
        "# Apply PCA to the scaled data\n",
        "pca = PCA(n_components=1)  # We are interested in only the first principal component\n",
        "principal_component = pca.fit_transform(scaled_data)\n",
        "\n",
        "# Calculate the percentage of variance captured by the first principal component\n",
        "explained_variance = pca.explained_variance_ratio_[0] * 100  # Multiply by 100 to get percentage\n",
        "\n",
        "# Print the percentage of variance captured\n",
        "print(f\"Percentage of variance captured by PCA_1: {explained_variance:.2f}%\")\n",
        "\n",
        "# Add the first principal component to the dataframe\n",
        "filtered_df['PCA_1'] = principal_component\n",
        "\n",
        "# Perform ANOVA test to check if PCA_1 is significantly different across Diabetes_012 categories\n",
        "anova_result = f_oneway(\n",
        "    filtered_df[filtered_df['Diabetes_012'] == 0]['PCA_1'],\n",
        "    filtered_df[filtered_df['Diabetes_012'] == 1]['PCA_1'],\n",
        "    filtered_df[filtered_df['Diabetes_012'] == 2]['PCA_1']\n",
        ")\n",
        "\n",
        "# Print the ANOVA results\n",
        "print(f\"ANOVA Test for PCA_1 vs. Diabetes Diagnosis: F-statistic={anova_result.statistic:.2f}, p-value={anova_result.pvalue:.4f}\")\n",
        "\n",
        "# Interpret the results\n",
        "if anova_result.pvalue < 0.05:\n",
        "    print(\"The first principal component (PCA_1) is statistically significant (p < 0.05). It will be included in the ML model.\\n\")\n",
        "else:\n",
        "    print(\"The first principal component (PCA_1) is NOT statistically significant (p >= 0.05). It will NOT be included in the ML model.\\n\")"
      ]
    },
    {
      "cell_type": "markdown",
      "id": "65995527",
      "metadata": {
        "id": "65995527"
      },
      "source": []
    },
    {
      "cell_type": "code",
      "execution_count": null,
      "id": "7d362dc7",
      "metadata": {
        "id": "7d362dc7"
      },
      "outputs": [],
      "source": [
        "# Set up the plot\n",
        "plt.figure(figsize=(10, 6))\n",
        "sns.boxplot(x='Diabetes_012', y='PCA_1', data=filtered_df, palette='Set2')\n",
        "\n",
        "# Add title and labels\n",
        "plt.title(f'Distribution of PCA_1 Across Diabetes Categories\\n(Explained Variance: {explained_variance:.2f}%)', fontsize=14)\n",
        "plt.xlabel('Diabetes Diagnosis (0: No Diabetes, 1: Pre-Diabetes, 2: Diabetes)', fontsize=12)\n",
        "plt.ylabel('First Principal Component (PCA_1)', fontsize=12)\n",
        "\n",
        "# Show gridlines\n",
        "plt.grid(axis='y', linestyle='--', alpha=0.7)\n",
        "\n",
        "# Display the plot\n",
        "plt.tight_layout()\n",
        "plt.show()"
      ]
    },
    {
      "cell_type": "markdown",
      "id": "a31e8fc8",
      "metadata": {
        "id": "a31e8fc8"
      },
      "source": [
        "In order to identify another feature for the machine learning classification model, I wanted to use a dimensionality reduction technique to reduce the effects of the curse of dimensionality. Thus, instead of incorporating the General Health, Mental Health, and Physical Health columns independently(as they exhibit multicollinearity, see correlation heatmap), we apply principal component analysis to reduce them to one column, which represents 62% of the variation seen in all three. Thus, we capture the more general aspects of health that these variables exibit. When performing the ANOVA test, the f-statistic of 240.23 - which translates to a p-value that rounds to 0 - indicates that there is effectively no chance that the principal component created from the three health columns has no correlation with a patient's level of diabetes. This means that it is likely a useful predictive factor for our classification model. The visualization above shows the differences in distributions of the Principal Component Feature across the categories of diabetic using a box plot."
      ]
    },
    {
      "cell_type": "markdown",
      "id": "aaacdf2b4387c815",
      "metadata": {
        "id": "aaacdf2b4387c815"
      },
      "source": [
        "### Question 5 — (5 points)\n",
        "\n",
        "Partition the data into train/test sets. After which, perform the following:\n",
        "encode any categorical data. Ensure that categorical variables are represented correctly.\n",
        "normalize numeric data.\n",
        "Tip: Ensure that you use sklearn to normalize and/or encode the training data, after which transform the test set (there is an example in the lecture).\n"
      ]
    },
    {
      "cell_type": "code",
      "execution_count": null,
      "id": "bcdd7f591d4a642e",
      "metadata": {
        "id": "bcdd7f591d4a642e"
      },
      "outputs": [],
      "source": [
        "# Features and target\n",
        "features = ['BMI', 'Income', 'Age', 'PCA_1']\n",
        "target = 'Diabetes_012'\n",
        "\n",
        "# Create a train/test split (80% train, 20% test)\n",
        "X = filtered_df[features]\n",
        "y = filtered_df[target]\n",
        "\n",
        "# Split the data into training and testing sets (random_state for reproducibility)\n",
        "X_train, X_test, y_train, y_test = train_test_split(X, y, test_size=0.2, random_state=42)\n",
        "\n",
        "# Normalize the numeric data using StandardScaler (BMI, Income, Age, PCA_1)\n",
        "scaler = StandardScaler()\n",
        "\n",
        "# Normalize the numeric features in the training data, and then transform the test data\n",
        "X_train_scaled = scaler.fit_transform(X_train)\n",
        "X_test_scaled = scaler.transform(X_test)\n",
        "\n",
        "# Display the results of the scaling\n",
        "print(\"Training set after scaling:\")\n",
        "print(pd.DataFrame(X_train_scaled, columns=features).head())\n",
        "\n",
        "print(\"\\nTesting set after scaling:\")\n",
        "print(pd.DataFrame(X_test_scaled, columns=features).head())"
      ]
    },
    {
      "cell_type": "code",
      "execution_count": null,
      "id": "15d24d77",
      "metadata": {
        "id": "15d24d77"
      },
      "outputs": [],
      "source": [
        "# Create a plot to show the distribution before and after scaling for each feature\n",
        "fig, axes = plt.subplots(2, len(features), figsize=(16, 8))\n",
        "\n",
        "# Plot original data\n",
        "for i, feature in enumerate(features):\n",
        "    sns.histplot(X_train[feature], ax=axes[0, i], kde=True, color='blue', bins=20)\n",
        "    axes[0, i].set_title(f'{feature} - Original')\n",
        "\n",
        "    # Set x-axis limits based on original data\n",
        "    axes[0, i].set_xlim(X_train[feature].min(), X_train[feature].max())\n",
        "\n",
        "# Plot scaled data\n",
        "for i, feature in enumerate(features):\n",
        "    sns.histplot(X_train_scaled[:, i], ax=axes[1, i], kde=True, color='green', bins=20)\n",
        "    axes[1, i].set_title(f'{feature} - Scaled')\n",
        "\n",
        "    # Set x-axis limits for scaled data\n",
        "    axes[1, i].set_xlim(-5, 5)  # Lock the x-axis scale for the normalized data\n",
        "\n",
        "# Labeling\n",
        "plt.suptitle('Feature Distribution Before and After Z-Score Normalization', fontsize=16)\n",
        "plt.tight_layout()\n",
        "plt.subplots_adjust(top=0.9)  # Adjust to make space for the suptitle\n",
        "plt.show()\n"
      ]
    },
    {
      "cell_type": "markdown",
      "id": "ad6efe85",
      "metadata": {
        "id": "ad6efe85"
      },
      "source": [
        "Here, I z-score normalize the X variables to set the mean to 0 and the standard deviation to 1. Then, I apply an 80/20 train test split."
      ]
    },
    {
      "cell_type": "markdown",
      "id": "72080ea2422f221c",
      "metadata": {
        "id": "72080ea2422f221c"
      },
      "source": [
        "### Question 6 — (30 points)\n",
        "\n",
        "Build the ML model that predicts the target variable based on the selected features. Ensure that you:\n",
        "Demonstrate the training, evaluation and tuning for at least three algorithms that can handle non linear data and multiple input features/variables. NOTE: you can only select one tree-based algorithm and you must select multiple input features for the ML modeling.\n",
        "Use GridSearchCV to tune at least two hyperparameters for each algorithm.\n",
        "Note: do not change the input features in your experiments.\n"
      ]
    },
    {
      "cell_type": "markdown",
      "id": "113f1fe1",
      "metadata": {
        "id": "113f1fe1"
      },
      "source": [
        "## SVM"
      ]
    },
    {
      "cell_type": "code",
      "execution_count": null,
      "id": "07dd9e68",
      "metadata": {
        "id": "07dd9e68"
      },
      "outputs": [],
      "source": [
        "#initialize the classifier\n",
        "svm = SVC() #the default kernel is rbf\n",
        "svm.fit(X_train_scaled, y_train) #fit the data\n",
        "\n",
        "#predict the labels for the test set\n",
        "y_pred   = svm.predict(X_test_scaled)\n",
        "\n",
        "#evaluate the prediction accuracy\n",
        "print('The accuracy of the model is: {}'.format(round(svm.score(X_test_scaled, y_test), 2)))\n",
        "\n",
        "#get hyperparameters\n",
        "print(\"C:\", svm.C)\n",
        "print(\"Gamma:\", svm.gamma)\n",
        "print(\"Kernel:\", svm.kernel)\n",
        "\n",
        "#get the classification report\n",
        "target_names = ['0', '1', '2']\n",
        "print(classification_report(y_test, y_pred, target_names = target_names))"
      ]
    },
    {
      "cell_type": "code",
      "execution_count": null,
      "id": "6f79689a",
      "metadata": {
        "id": "6f79689a"
      },
      "outputs": [],
      "source": [
        "#setup the parameter grid to try different values of C, gamma, and kernel.\n",
        "params = {\"C\": [0.1, 1, 10, 100],\n",
        "          \"gamma\": [0.01, 0.1, 1, 'scale'],\n",
        "         \"kernel\": ['rbf', 'linear']}\n",
        "\n",
        "#initialize classifier\n",
        "svm = SVC()\n",
        "\n",
        "#initialize Grid Search with Cross Validation\n",
        "svm_grid = GridSearchCV(estimator = svm, param_grid = params, cv=5, return_train_score=True)\n",
        "svm_grid.fit(X_train_scaled, y_train)\n",
        "\n",
        "print('Best parameters:', svm_grid.best_params_) #print the best parameters\n",
        "print('Best score:', round(svm_grid.best_score_, 2))  #print the best score"
      ]
    },
    {
      "cell_type": "code",
      "execution_count": null,
      "id": "5eb9a0a6",
      "metadata": {
        "id": "5eb9a0a6"
      },
      "outputs": [],
      "source": [
        "#display the cv results for the train and test set\n",
        "cv_results = pd.DataFrame(svm_grid.cv_results_)\n",
        "cv_results = cv_results.sort_values('mean_test_score', ascending=False)\n",
        "cv_results[['mean_train_score', 'std_train_score', 'mean_test_score', 'std_test_score']].head()"
      ]
    },
    {
      "cell_type": "markdown",
      "source": [
        "Here, the default 'scale' for gamma is equal to the inverse of the number of features (4) multiplied by the variance of the scaled X-train data (1).  It comes out to 0.25."
      ],
      "metadata": {
        "id": "6DAdl-5vFSPk"
      },
      "id": "6DAdl-5vFSPk"
    },
    {
      "cell_type": "markdown",
      "source": [
        "[Helpful link](https://scikit-learn.org/1.5/modules/generated/sklearn.svm.SVC.html)"
      ],
      "metadata": {
        "id": "bTbJP4HfFWwa"
      },
      "id": "bTbJP4HfFWwa"
    },
    {
      "cell_type": "markdown",
      "id": "d1fddaf3",
      "metadata": {
        "id": "d1fddaf3"
      },
      "source": [
        "## k-NN"
      ]
    },
    {
      "cell_type": "code",
      "execution_count": null,
      "id": "9083026f",
      "metadata": {
        "id": "9083026f"
      },
      "outputs": [],
      "source": [
        "#initialize the classifier and set the number of neighbors\n",
        "knn = KNeighborsClassifier(n_neighbors = 5)\n",
        "knn.fit(X_train_scaled, y_train)\n",
        "\n",
        "#predict the labels for the test set\n",
        "y_pred = knn.predict(X_test_scaled)\n",
        "\n",
        "#evaluate the model using Mean Squared Error\n",
        "mse = round(mean_squared_error(y_test, y_pred), 2)\n",
        "print(f\"Initial Model MSE (k = 5): {mse}\")\n",
        "\n",
        "#evaluate the prediction accuracy\n",
        "print('The accuracy of the model is: {}'.format(round(knn.score(X_test_scaled, y_test), 2)))\n",
        "\n",
        "#get the classification report\n",
        "target_names = ['0', '1', '2']\n",
        "print(classification_report(y_test, y_pred, target_names = target_names))"
      ]
    },
    {
      "cell_type": "code",
      "execution_count": null,
      "id": "7647f39f",
      "metadata": {
        "id": "7647f39f"
      },
      "outputs": [],
      "source": [
        "#setup the parameter grid to try values of n_neighbors, weights, and metric\n",
        "knn_params = {\n",
        "    'n_neighbors': [3, 5, 7, 9],\n",
        "    'weights': ['uniform', 'distance'],\n",
        "    'metric': ['euclidean', 'manhattan']\n",
        "}\n",
        "\n",
        "#initialize classifier\n",
        "knn = KNeighborsClassifier()\n",
        "\n",
        "#initialize Grid Search with Cross Validation\n",
        "knn_grid = GridSearchCV(estimator = knn, param_grid = knn_params, cv=5, return_train_score=True)\n",
        "knn_grid.fit(X_train_scaled, y_train)\n",
        "\n",
        "print('Best parameters:', knn_grid.best_params_) #print the best parameters\n",
        "print('Best score:', round(knn_grid.best_score_, 2))  #print the best score"
      ]
    },
    {
      "cell_type": "code",
      "execution_count": null,
      "id": "c313b309",
      "metadata": {
        "id": "c313b309"
      },
      "outputs": [],
      "source": [
        "#display the cv results for the train and test set\n",
        "cv_results = pd.DataFrame(knn_grid.cv_results_)\n",
        "cv_results = cv_results.sort_values('mean_test_score', ascending=False)\n",
        "cv_results[['mean_train_score', 'std_train_score', 'mean_test_score', 'std_test_score']].head()"
      ]
    },
    {
      "cell_type": "markdown",
      "source": [
        "[Helpful link](https://www.datasklr.com/select-classification-methods/k-nearest-neighbors)"
      ],
      "metadata": {
        "id": "o6dt1cVAFcsD"
      },
      "id": "o6dt1cVAFcsD"
    },
    {
      "cell_type": "markdown",
      "id": "8d577210",
      "metadata": {
        "id": "8d577210"
      },
      "source": [
        "## Random Forest"
      ]
    },
    {
      "cell_type": "code",
      "execution_count": 3,
      "id": "2de1ec61",
      "metadata": {
        "colab": {
          "base_uri": "https://localhost:8080/",
          "height": 216
        },
        "id": "2de1ec61",
        "outputId": "3cc78b70-f6c2-4c96-b6f9-d7a5e517952e"
      },
      "outputs": [
        {
          "output_type": "error",
          "ename": "NameError",
          "evalue": "name 'X_train_scaled' is not defined",
          "traceback": [
            "\u001b[0;31m---------------------------------------------------------------------------\u001b[0m",
            "\u001b[0;31mNameError\u001b[0m                                 Traceback (most recent call last)",
            "\u001b[0;32m<ipython-input-3-2ba8c440cbb2>\u001b[0m in \u001b[0;36m<cell line: 3>\u001b[0;34m()\u001b[0m\n\u001b[1;32m      1\u001b[0m \u001b[0;31m#initialize the classifier\u001b[0m\u001b[0;34m\u001b[0m\u001b[0;34m\u001b[0m\u001b[0m\n\u001b[1;32m      2\u001b[0m \u001b[0mrf\u001b[0m \u001b[0;34m=\u001b[0m \u001b[0mRandomForestClassifier\u001b[0m\u001b[0;34m(\u001b[0m\u001b[0mrandom_state\u001b[0m \u001b[0;34m=\u001b[0m \u001b[0;36m42\u001b[0m\u001b[0;34m)\u001b[0m\u001b[0;34m\u001b[0m\u001b[0;34m\u001b[0m\u001b[0m\n\u001b[0;32m----> 3\u001b[0;31m \u001b[0mrf\u001b[0m\u001b[0;34m.\u001b[0m\u001b[0mfit\u001b[0m\u001b[0;34m(\u001b[0m\u001b[0mX_train_scaled\u001b[0m\u001b[0;34m,\u001b[0m \u001b[0my_train\u001b[0m\u001b[0;34m)\u001b[0m\u001b[0;34m\u001b[0m\u001b[0;34m\u001b[0m\u001b[0m\n\u001b[0m\u001b[1;32m      4\u001b[0m \u001b[0;34m\u001b[0m\u001b[0m\n\u001b[1;32m      5\u001b[0m \u001b[0;31m#predict the labels for the test set\u001b[0m\u001b[0;34m\u001b[0m\u001b[0;34m\u001b[0m\u001b[0m\n",
            "\u001b[0;31mNameError\u001b[0m: name 'X_train_scaled' is not defined"
          ]
        }
      ],
      "source": [
        "#initialize the classifier\n",
        "rf = RandomForestClassifier(random_state = 42)\n",
        "rf.fit(X_train_scaled, y_train)\n",
        "\n",
        "#predict the labels for the test set\n",
        "y_pred   = rf.predict(X_test_scaled)\n",
        "\n",
        "#evaluate the model using mean squared error\n",
        "mse = round(mean_squared_error(y_test, y_pred), 2)\n",
        "print('The mse of the model is: {}'.format(mse))\n",
        "\n",
        "#evaluate the prediction accuracy\n",
        "print('The accuracy of the model is: {}'.format(round(rf.score(X_test_scaled, y_test), 2)))\n",
        "\n",
        "#get the classification report\n",
        "target_names = ['0', '1', '2']\n",
        "print(classification_report(y_test, y_pred, target_names = target_names))"
      ]
    },
    {
      "cell_type": "code",
      "execution_count": null,
      "id": "84b8c8fa",
      "metadata": {
        "id": "84b8c8fa"
      },
      "outputs": [],
      "source": [
        "#setup the parameter grid to try values of n_estimators, max_depth, and min_samples_split\n",
        "rf_params = {\n",
        "    'n_estimators': [100, 200, 300],\n",
        "    'max_depth': [None, 10, 20],\n",
        "    'min_samples_split': [2, 5, 10]\n",
        "}\n",
        "\n",
        "#initialize classifier\n",
        "rf = RandomForestClassifier(random_state = 42)\n",
        "\n",
        "#initialize Grid Search with Cross Validation\n",
        "rf_grid = GridSearchCV(estimator = rf, param_grid = rf_params, cv=5, return_train_score=True)\n",
        "rf_grid.fit(X_train_scaled, y_train)\n",
        "\n",
        "print('Best parameters:', rf_grid.best_params_) #print the best parameters\n",
        "print('Best score:', round(rf_grid.best_score_, 2))  #print the best score"
      ]
    },
    {
      "cell_type": "code",
      "execution_count": null,
      "id": "56b94b54",
      "metadata": {
        "id": "56b94b54"
      },
      "outputs": [],
      "source": [
        "#display the cv results for the train and test set\n",
        "cv_results = pd.DataFrame(rf_grid.cv_results_)\n",
        "cv_results = cv_results.sort_values('mean_test_score', ascending=False)\n",
        "cv_results[['mean_train_score', 'std_train_score', 'mean_test_score', 'std_test_score']].head()"
      ]
    },
    {
      "cell_type": "markdown",
      "source": [
        "[Helpful Link](https://towardsdatascience.com/hyperparameter-tuning-the-random-forest-in-python-using-scikit-learn-28d2aa77dd74)"
      ],
      "metadata": {
        "id": "nMUVhtyIFoAm"
      },
      "id": "nMUVhtyIFoAm"
    },
    {
      "cell_type": "markdown",
      "id": "e6ae3b13af08ea1c",
      "metadata": {
        "id": "e6ae3b13af08ea1c"
      },
      "source": [
        "### Question 7 — (15 points)\n",
        "\n",
        "Analyze the evaluated models. For each algorithm, ensure that you:\n",
        "Display: 1) the best model and 2) the best score that was obtained.\n",
        "Evaluate the scores from GridSearchCV for the training set and the test set to diagnose any bias-variance problems. Comment on the quality of the model.\n",
        "NOTE: seeing that you are analyzing healthcare data, ensure that you discuss what is the desired metric to evaluate the results based on the machine learning task e.g. accuracy, precision, recall, f1-score, MSE, R2, etc."
      ]
    },
    {
      "cell_type": "markdown",
      "id": "726ca3dd-277d-475b-bf05-c71d6b34a7cf",
      "metadata": {
        "id": "726ca3dd-277d-475b-bf05-c71d6b34a7cf"
      },
      "source": [
        "1) SVM\n",
        "\n",
        "Best Model: {'C': 100, 'gamma': 0.1}\n",
        "Best Score: 0.65 (cross-validation score)\n",
        "\n",
        "The SVM model performed reasonably well with an accuracy of 66%, but its performance in detecting diabetic cases was subpar, with precision, recall and F1-score all equal to 0 for class 1, which is diabetic. The model's best parameters were C: 100, gamma : 0.1, but the difference between the training score(66.6%) and the test score 64.9% suggests low bias and potential underfitting. This indiccates that while the model is fitting the training data well, it struggles to generalize to unseen data, particularly with the minority class which is diabetic.\n",
        "\n",
        "2) k-NN\n",
        "Best Model: {'metric': 'euclidean', 'n_neighbors': 9, 'weights': 'uniform'}\n",
        "Best Score: 0.63 (cross-validation score)\n",
        "\n",
        "The k-NN model also showed issues with poor performance in predicting diabetics as seen through the lack of precision, recall, and F1-score for class 1. The model achieved an accuracy of 61%, but there was a gap between the training score (70.7%) and the test score (63.3%), indicating overfitting. The model memorizes the training data well but does not generalize to new data. Given the dataset imbalance, where non-diabetic cases are more prevalent, the k-NN model is biased toward the majority class, making it unsuitable for tasks where identifying diabetic individuals is essential.\n",
        "\n",
        "3) Random Forest\n",
        "\n",
        "Best Model: {'max_depth': 10, 'min_samples_split': 10, 'n_estimators': 100}\n",
        "Best Score: 0.64 (cross-validation score)\n",
        "\n",
        "The Random Forest model showed similar shortcomings with an accuracy of 61% with a 0 precision, recall, and F1-score for class 1. The model had a training score of 76.9% and a test score of 63.8%, indicating some level of overfitting. Although Random Forest is generally more robust to overfitting, its inability to detect diabetic cases here suggests the model's complexity may be leading it to focus on patterns that are not generalizable, particularly for the minority class.\n",
        "\n",
        "**Overall, the model with the best performance was the Random Forest Model**\n"
      ]
    },
    {
      "cell_type": "markdown",
      "id": "8247a091982d5d9f",
      "metadata": {
        "id": "8247a091982d5d9f"
      },
      "source": [
        "### Question 8 — (5 points)\n",
        "\n",
        "Discuss the potential impacts of your solution. Who will benefit from (and/or who will be affected by) your solution and why.\n",
        "Were there any concerns of bias in the ML modeling seeing that you were analyzing sensitive data? Create visualizations to share any analysis of bias in the training data and/or the predictions from the model. For example: you can compare and contrast the predictions for specific groups to demonstrate your findings. Provide recommendations on techniques to address any issues that were found.\n",
        "Note: you are welcome to use libraries to perform the analysis.\n"
      ]
    },
    {
      "cell_type": "markdown",
      "id": "ffa90d1d-d720-4c87-b85f-fc116a41324e",
      "metadata": {
        "id": "ffa90d1d-d720-4c87-b85f-fc116a41324e"
      },
      "source": [
        "The impacts of a machine learning (ML) solution can be significant for various stakeholders. Primary users directly benefit from improved decision-making and insights provided by the ML model, while organizations or stakeholders can make systems run more efficiently and with increased profitability. If designed equitably, the model can also address the challenges faced by marginalized groups. However, the model may also have unintended consequences for underrepresented groups if the training data is skewed, leading to biased predictions or system misbehavior that affects end users.\n",
        "\n",
        "Bias concerns in ML modeling arise from several sources. Sampling bias occurs when certain groups are overrepresented or underrepresented in the training data, while labeling bias stems from errors or biases in human-generated labels. Algorithmic bias can emerge when the model performs differently across demographic groups, resulting in unfair outcomes for certain populations. These biases can amplify existing societal disparities or lead to negative impacts for underrepresented groups, highlighting the need for careful consideration in model design.\n",
        "\n",
        "To address these biases, several recommendations can be implemented. Data balancing techniques can be used to increase the representation of underrepresented groups in the training dataset, ensuring a more equitable model. Fairness-aware algorithms, which use fairness constraints or regularization during training, can help minimize bias. Additionally, bias mitigation techniques can be applied to post-process predictions to ensure more equitable outcomes. Finally, regular audits of the model's performance across demographic groups are also important to identify and address any disparities that may be present."
      ]
    },
    {
      "cell_type": "code",
      "execution_count": null,
      "id": "c42ce9fb-ce20-4522-8a23-76392540dd52",
      "metadata": {
        "id": "c42ce9fb-ce20-4522-8a23-76392540dd52",
        "outputId": "325a3f01-c3eb-4569-b99a-3e07097d651d"
      },
      "outputs": [
        {
          "name": "stdout",
          "output_type": "stream",
          "text": [
            "Diabetes_012       0.0       1.0       2.0\n",
            "Sex                                       \n",
            "0.0           0.837421  0.020209  0.142370\n",
            "1.0           0.813955  0.020064  0.165981\n"
          ]
        },
        {
          "data": {
            "image/png": "[encoded data removed]",
            "text/plain": [
              "<Figure size 800x600 with 1 Axes>"
            ]
          },
          "metadata": {},
          "output_type": "display_data"
        }
      ],
      "source": [
        "\n",
        "sex_bias = df.groupby('Sex')['Diabetes_012'].value_counts(normalize=True).unstack()\n",
        "print(sex_bias)\n",
        "\n",
        "# Plot the bias in diabetes distribution by sex\n",
        "sex_bias.plot(kind='bar', stacked=True, figsize=(8, 6), colormap='coolwarm')\n",
        "plt.title('Distribution of Diabetes by Sex')\n",
        "plt.xlabel('Sex')\n",
        "plt.ylabel('Proportion')\n",
        "plt.show()\n"
      ]
    },
    {
      "cell_type": "markdown",
      "id": "108feee7-44c7-4294-b59e-3121ec48610f",
      "metadata": {
        "id": "108feee7-44c7-4294-b59e-3121ec48610f"
      },
      "source": [
        "As we see in the graph above, both sexes have similar proportions of having diabetes, no diabetes, and pre-diabetes. If the proportions of males and females were significantly different in the dataset then this could be an indication of a potential bias. The dataset does not seeem to have bias based on sex"
      ]
    },
    {
      "cell_type": "code",
      "execution_count": null,
      "id": "7caa121d-ec01-4189-8e73-ac8f9d2d0a32",
      "metadata": {
        "id": "7caa121d-ec01-4189-8e73-ac8f9d2d0a32",
        "outputId": "f3918d48-d18b-442a-8c1b-46d295ddf651"
      },
      "outputs": [
        {
          "data": {
            "text/plain": [
              "<Figure size 1000x600 with 0 Axes>"
            ]
          },
          "metadata": {},
          "output_type": "display_data"
        },
        {
          "data": {
            "image/png": "[encoded data removed]",
            "text/plain": [
              "<Figure size 640x480 with 1 Axes>"
            ]
          },
          "metadata": {},
          "output_type": "display_data"
        }
      ],
      "source": [
        "bins = [0, 4, 6, 10]\n",
        "labels = ['Low', 'Medium', 'High']\n",
        "df['Income_Category'] = pd.cut(df['Income'], bins=bins, labels=labels)\n",
        "\n",
        "income_by_diabetes = pd.crosstab(df['Diabetes_012'], df['Income_Category'], normalize='index')\n",
        "\n",
        "plt.figure(figsize=(10, 6))\n",
        "income_by_diabetes.plot(kind='bar', stacked=True, color=['red', 'yellow', 'green'])\n",
        "plt.title('Proportion of Income Categories by Diabetes Status', fontsize=16)\n",
        "plt.xlabel('Diabetes Status (0: No Diabetes, 1: Pre-diabetes, 2: Diabetes)', fontsize=12)\n",
        "plt.ylabel('Proportion', fontsize=12)\n",
        "plt.xticks(rotation=0)\n",
        "plt.legend(title='Income Categories', loc='upper right')\n",
        "plt.show()"
      ]
    },
    {
      "cell_type": "markdown",
      "id": "6c6b52a8-5654-4ab3-b1c1-7036d1febef9",
      "metadata": {
        "id": "6c6b52a8-5654-4ab3-b1c1-7036d1febef9"
      },
      "source": [
        "The analysis of income and diabetes status in the dataset shows a slight overrepresentation of high-income individuals in the \"No Diabetes\" group. However, the distribution of diabetes and pre-diabetes statuses across income categories appears fairly proportional. This suggests that, while there is some bias in the higher-income group, the dataset generally reflects a diverse range of income levels in relation to diabetes."
      ]
    },
    {
      "cell_type": "code",
      "execution_count": null,
      "id": "05b3b50c-1367-4d14-8737-48128272f348",
      "metadata": {
        "id": "05b3b50c-1367-4d14-8737-48128272f348",
        "outputId": "e9c20f1e-72b3-4eef-b6d3-5050ca4bbf9b"
      },
      "outputs": [
        {
          "name": "stdout",
          "output_type": "stream",
          "text": [
            "Proportions of healthcare by diabetes status:\n",
            "AnyHealthcare       0.0       1.0\n",
            "Diabetes_012                     \n",
            "0.0            0.056378  0.943622\n",
            "1.0            0.054871  0.945129\n",
            "2.0            0.040516  0.959484\n"
          ]
        },
        {
          "data": {
            "text/plain": [
              "<Figure size 1000x600 with 0 Axes>"
            ]
          },
          "metadata": {},
          "output_type": "display_data"
        },
        {
          "data": {
            "image/png": "[encoded data removed]",
            "text/plain": [
              "<Figure size 640x480 with 1 Axes>"
            ]
          },
          "metadata": {},
          "output_type": "display_data"
        }
      ],
      "source": [
        "healthcare_diabetes = pd.crosstab(df['Diabetes_012'], df['AnyHealthcare'], normalize='index')\n",
        "print(\"Proportions of healthcare by diabetes status:\")\n",
        "print(healthcare_diabetes)\n",
        "\n",
        "plt.figure(figsize=(10,6))\n",
        "healthcare_diabetes.plot(kind='bar', stacked=True, color=['lightcoral', 'lightgreen'], width=0.7)\n",
        "plt.title('Healthcare Status by Diabetes Category')\n",
        "plt.xlabel('Diabetes Status')\n",
        "plt.ylabel('Proportion')\n",
        "plt.xticks([0, 1, 2], ['No Diabetes', 'Prediabetes', 'Diabetes'], rotation=0)\n",
        "plt.legend(title='Healthcare Status', labels=['No Healthcare', 'Has Healthcare'])\n",
        "plt.tight_layout()\n",
        "plt.show()"
      ]
    },
    {
      "cell_type": "markdown",
      "id": "47cf41e7-21ed-4532-bbdb-d2e33f69e26c",
      "metadata": {
        "id": "47cf41e7-21ed-4532-bbdb-d2e33f69e26c"
      },
      "source": [
        "The dataset shows a significant bias towards individuals with healthcare, as the majority of participants have healthcare coverage. This bias could skew the analysis of health conditions, such as diabetes, by underrepresenting the experiences of those without healthcare, who may face worse outcomes. To address this, resampling techniques, generating synthetic data, or incorporating additional variables can help balance the dataset and provide a more accurate, inclusive analysis of healthcare access and health outcomes."
      ]
    },
    {
      "cell_type": "code",
      "execution_count": null,
      "id": "2c6914a6-96f5-4904-bfbd-edc047213925",
      "metadata": {
        "id": "2c6914a6-96f5-4904-bfbd-edc047213925"
      },
      "outputs": [],
      "source": []
    }
  ],
  "metadata": {
    "kernelspec": {
      "display_name": "Python 3 (ipykernel)",
      "language": "python",
      "name": "python3"
    },
    "language_info": {
      "codemirror_mode": {
        "name": "ipython",
        "version": 3
      },
      "file_extension": ".py",
      "mimetype": "text/x-python",
      "name": "python",
      "nbconvert_exporter": "python",
      "pygments_lexer": "ipython3",
      "version": "3.11.4"
    },
    "colab": {
      "provenance": []
    }
  },
  "nbformat": 4,
  "nbformat_minor": 5
}
