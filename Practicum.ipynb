{
 "cells": [
  {
   "metadata": {},
   "cell_type": "markdown",
   "source": "# Practicum 3: Model Development and Tuning",
   "id": "626c083b475f5f29"
  },
  {
   "metadata": {},
   "cell_type": "markdown",
   "source": [
    "### Question 1 — The DS Problem (0 point)\n",
    "\n",
    "In your own words, formulate the Data Science problem.\n"
   ],
   "id": "1a7578de57e0d0f3"
  },
  {
   "metadata": {},
   "cell_type": "code",
   "outputs": [],
   "execution_count": null,
   "source": "",
   "id": "6d26064c8464b3db"
  },
  {
   "metadata": {},
   "cell_type": "markdown",
   "source": [
    "### Question 2 — Prepare the Data (5 pts)\n",
    "\n",
    "Evaluate the dataset to determine if ALL variables are represented in their expected type. Convert variables to suitable data types for ML modeling. This means that you need to identify categorical data, discrete and continuous variables represent them accordingly.\n",
    "Analyze the data to determine what preprocessing steps are needed to ensure that the following are handled: 1) missing values, 2) invalid values, 3) outliers. Perform the required data preparation steps and justify the approach that is taken to prepare the data for analysis. \n"
   ],
   "id": "b19d8a0c56c4374c"
  },
  {
   "metadata": {},
   "cell_type": "code",
   "outputs": [],
   "execution_count": null,
   "source": "",
   "id": "ab2ebead8a9058d0"
  },
  {
   "metadata": {},
   "cell_type": "markdown",
   "source": [
    "### Question 3 — (20 points)\n",
    "\n",
    "Perform exploratory data analysis. Ensure that you analyze the relationships between the various features and social determinants of health in the dataset, and the diabetic outcomes. Create visualizations to demonstrate your findings and explain the results.\n"
   ],
   "id": "338734cb6bb75b27"
  },
  {
   "metadata": {},
   "cell_type": "code",
   "outputs": [],
   "execution_count": null,
   "source": "",
   "id": "722cab8147accbb0"
  },
  {
   "metadata": {},
   "cell_type": "markdown",
   "source": [
    "### Question 4a — (20 points)\n",
    "\n",
    "Perform significance tests to determine if the patterns that are detected above are statistically significant. Ensure that you discuss at least three patterns and the respective p-values.\n",
    "Select the features that will be used in the ML models (i.e. your selected features should be based on analytical reasoning that demonstrates their utility for ML modeling. Do not arbitrarily select features.\n",
    "Note: if you are using correlations, ensure that this is only performed using continuous variables.\n"
   ],
   "id": "b2ae8b83bff50a07"
  },
  {
   "metadata": {},
   "cell_type": "code",
   "outputs": [],
   "execution_count": null,
   "source": "",
   "id": "73e77267c3bcf385"
  },
  {
   "metadata": {},
   "cell_type": "markdown",
   "source": [
    "### [Optional] Question 4b — (10 points)\n",
    "This is an optional challenge question. Its purpose is to identify new features that can be included in the ML modeling below.\n",
    "\n",
    "Perform ONE of the following\n",
    "(1) Feature engineering: Machine learning models can benefit greatly from feature engineering. Create a new feature that can be included in the model and perform significance testing to determine if it's statistically significant. Explain the results and justify if the feature will be included in the ML model. If you decide that you will not include the new feature in the ML model, explain the reasons.\n",
    "OR\n",
    "(2) Statistical tests: Research a new type of statistical test that was not introduced in the lecture and write python code to demonstrate at least two significance tests between features in the dataset. Explain the results and justify if the feature will be included in the ML model. If you decide that you will not include the analyzed feature(s) in the ML model, explain the reasons. Note: you are welcome to use libraries to perform the tests."
   ],
   "id": "b9eaac3729bc38ad"
  },
  {
   "metadata": {},
   "cell_type": "code",
   "outputs": [],
   "execution_count": null,
   "source": "",
   "id": "4de0296342eb9ae6"
  },
  {
   "metadata": {},
   "cell_type": "markdown",
   "source": [
    "### Question 5 — (5 points)\n",
    "\n",
    "Partition the data into train/test sets. After which, perform the following:\n",
    "encode any categorical data. Ensure that categorical variables are represented correctly.\n",
    "normalize numeric data.\n",
    "Tip: Ensure that you use sklearn to normalize and/or encode the training data, after which transform the test set (there is an example in the lecture).\n"
   ],
   "id": "aaacdf2b4387c815"
  },
  {
   "metadata": {},
   "cell_type": "code",
   "outputs": [],
   "execution_count": null,
   "source": "",
   "id": "bcdd7f591d4a642e"
  },
  {
   "metadata": {},
   "cell_type": "markdown",
   "source": [
    "### Question 6 — (30 points)\n",
    "\n",
    "Build the ML model that predicts the target variable based on the selected features. Ensure that you:\n",
    "Demonstrate the training, evaluation and tuning for at least three algorithms that can handle non linear data and multiple input features/variables. NOTE: you can only select one tree-based algorithm and you must select multiple input features for the ML modeling.\n",
    "Use GridSearchCV to tune at least two hyperparameters for each algorithm.\n",
    "Note: do not change the input features in your experiments.\n"
   ],
   "id": "72080ea2422f221c"
  },
  {
   "metadata": {},
   "cell_type": "code",
   "outputs": [],
   "execution_count": null,
   "source": "",
   "id": "4760a094823d33b2"
  },
  {
   "metadata": {},
   "cell_type": "markdown",
   "source": [
    "### Question 7 — (15 points)\n",
    "\n",
    "Analyze the evaluated models. For each algorithm, ensure that you:\n",
    "Display: 1) the best model and 2) the best score that was obtained.\n",
    "Evaluate the scores from GridSearchCV for the training set and the test set to diagnose any bias-variance problems. Comment on the quality of the model.\n",
    "NOTE: seeing that you are analyzing healthcare data, ensure that you discuss what is the desired metric to evaluate the results based on the machine learning task e.g. accuracy, precision, recall, f1-score, MSE, R2, etc."
   ],
   "id": "e6ae3b13af08ea1c"
  },
  {
   "metadata": {},
   "cell_type": "code",
   "outputs": [],
   "execution_count": null,
   "source": "",
   "id": "61801522e8635bc9"
  },
  {
   "metadata": {},
   "cell_type": "markdown",
   "source": [
    "### Question 8 — (5 points)\n",
    "\n",
    "Discuss the potential impacts of your solution. Who will benefit from (and/or who will be affected by) your solution and why.\n",
    "Were there any concerns of bias in the ML modeling seeing that you were analyzing sensitive data? Create visualizations to share any analysis of bias in the training data and/or the predictions from the model. For example: you can compare and contrast the predictions for specific groups to demonstrate your findings. Provide recommendations on techniques to address any issues that were found.\n",
    "Note: you are welcome to use libraries to perform the analysis.\n"
   ],
   "id": "8247a091982d5d9f"
  },
  {
   "metadata": {},
   "cell_type": "code",
   "outputs": [],
   "execution_count": null,
   "source": "",
   "id": "4d054872fbe18fc6"
  },
  {
   "metadata": {},
   "cell_type": "markdown",
   "source": [
    "Note:\n",
    "\n",
    "Ensure that all visualizations have a title and label both the x and y axes; all numeric calculations should be rounded to 2 decimal places.\n",
    "Use markdown cells to explain your observations about the data.\n",
    "Include the names of all teammates on all submissions\n",
    "Ensure that your Python code is in a code cell and that it executes without errors."
   ],
   "id": "766a2122a110e1b8"
  }
 ],
 "metadata": {
  "kernelspec": {
   "display_name": "Python 3",
   "language": "python",
   "name": "python3"
  },
  "language_info": {
   "codemirror_mode": {
    "name": "ipython",
    "version": 2
   },
   "file_extension": ".py",
   "mimetype": "text/x-python",
   "name": "python",
   "nbconvert_exporter": "python",
   "pygments_lexer": "ipython2",
   "version": "2.7.6"
  }
 },
 "nbformat": 4,
 "nbformat_minor": 5
}
