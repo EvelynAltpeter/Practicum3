{
 "cells": [
  {
   "metadata": {},
   "cell_type": "markdown",
   "source": "# Practicum 3: Model Development and Tuning",
   "id": "626c083b475f5f29"
  },
  {
   "metadata": {},
   "cell_type": "markdown",
   "source": [
    "### Question 1 — The DS Problem (0 point)\n",
    "\n",
    "In your own words, formulate the Data Science problem.\n"
   ],
   "id": "1a7578de57e0d0f3"
  },
  {
   "metadata": {},
   "cell_type": "code",
   "outputs": [],
   "execution_count": null,
   "source": "",
   "id": "6d26064c8464b3db"
  },
  {
   "metadata": {},
   "cell_type": "markdown",
   "source": [
    "### Question 2 — Prepare the Data (5 pts)\n",
    "\n",
    "Evaluate the dataset to determine if ALL variables are represented in their expected type. Convert variables to suitable data types for ML modeling. This means that you need to identify categorical data, discrete and continuous variables represent them accordingly.\n",
    "Analyze the data to determine what preprocessing steps are needed to ensure that the following are handled: 1) missing values, 2) invalid values, 3) outliers. Perform the required data preparation steps and justify the approach that is taken to prepare the data for analysis. \n"
   ],
   "id": "b19d8a0c56c4374c"
  },
  {
   "metadata": {
    "ExecuteTime": {
     "end_time": "2024-12-05T21:48:07.232161Z",
     "start_time": "2024-12-05T21:48:06.210791Z"
    }
   },
   "cell_type": "code",
   "source": [
    "# Imports\n",
    "\n",
    "import pandas as pd\n",
    "import numpy as np\n",
    "import matplotlib.pyplot as plt\n",
    "import seaborn as sns\n",
    "\n"
   ],
   "id": "ab2ebead8a9058d0",
   "outputs": [],
   "execution_count": 1
  },
  {
   "metadata": {
    "ExecuteTime": {
     "end_time": "2024-12-05T22:41:43.468124Z",
     "start_time": "2024-12-05T22:41:42.516375Z"
    }
   },
   "cell_type": "code",
   "source": [
    "# Data Cleaning\n",
    "df = pd.read_csv('diabetes_012_health_indicators_BRFSS2015.csv')\n",
    "print(df.head())\n",
    "\n",
    "# Checking variable types \n",
    "print(df.dtypes)\n",
    "\n",
    "# Dropping NaN and duplicate values\n",
    "df = df.dropna(axis=0, how='any')\n",
    "df = df.drop_duplicates()\n",
    "\n",
    "# Describing data\n",
    "print(df.describe())\n",
    "\n",
    "# Continuous variables worth checking\n",
    "cont = ['BMI', 'MentHlth', 'PhysHlth']\n",
    "\n",
    "# Box plot for each column\n",
    "for col in ['BMI', 'MentHlth', 'PhysHlth']:\n",
    "    plt.figure()\n",
    "    df.boxplot(column=col)\n",
    "    plt.title(f'Box Plot for {col}')\n",
    "    plt.show()\n",
    "\n",
    "# Find outliers\n",
    "def drop_outliers(df, column):\n",
    "    q1 = df[column].quantile(0.25)\n",
    "    q3 = df[column].quantile(0.75)\n",
    "    iqr = q3 - q1\n",
    "    lower_bound = q1 - 1.5 * iqr\n",
    "    upper_bound = q3 + 1.5 * iqr\n",
    "    filtered_df = df[(df[column] > upper_bound) |  (df[column] < lower_bound)]\n",
    "    return filtered_df\n",
    "\n",
    "# Drop outliers\n",
    "filtered_df = drop_outliers(df, 'MentHlth')\n",
    "filtered_df = drop_outliers(df, 'PhysHlth')\n",
    "filtered_df = drop_outliers(df, 'BMI')\n",
    "\n",
    "print(f\"OG dataset shape: {df.shape}\")\n",
    "print(f\"Filtered dataset shape: {filtered_df.shape}\")"
   ],
   "id": "5222314185a183d3",
   "outputs": [
    {
     "name": "stdout",
     "output_type": "stream",
     "text": [
      "   Diabetes_012  HighBP  HighChol  CholCheck   BMI  Smoker  Stroke  \\\n",
      "0           0.0     1.0       1.0        1.0  40.0     1.0     0.0   \n",
      "1           0.0     0.0       0.0        0.0  25.0     1.0     0.0   \n",
      "2           0.0     1.0       1.0        1.0  28.0     0.0     0.0   \n",
      "3           0.0     1.0       0.0        1.0  27.0     0.0     0.0   \n",
      "4           0.0     1.0       1.0        1.0  24.0     0.0     0.0   \n",
      "\n",
      "   HeartDiseaseorAttack  PhysActivity  Fruits  ...  AnyHealthcare  \\\n",
      "0                   0.0           0.0     0.0  ...            1.0   \n",
      "1                   0.0           1.0     0.0  ...            0.0   \n",
      "2                   0.0           0.0     1.0  ...            1.0   \n",
      "3                   0.0           1.0     1.0  ...            1.0   \n",
      "4                   0.0           1.0     1.0  ...            1.0   \n",
      "\n",
      "   NoDocbcCost  GenHlth  MentHlth  PhysHlth  DiffWalk  Sex   Age  Education  \\\n",
      "0          0.0      5.0      18.0      15.0       1.0  0.0   9.0        4.0   \n",
      "1          1.0      3.0       0.0       0.0       0.0  0.0   7.0        6.0   \n",
      "2          1.0      5.0      30.0      30.0       1.0  0.0   9.0        4.0   \n",
      "3          0.0      2.0       0.0       0.0       0.0  0.0  11.0        3.0   \n",
      "4          0.0      2.0       3.0       0.0       0.0  0.0  11.0        5.0   \n",
      "\n",
      "   Income  \n",
      "0     3.0  \n",
      "1     1.0  \n",
      "2     8.0  \n",
      "3     6.0  \n",
      "4     4.0  \n",
      "\n",
      "[5 rows x 22 columns]\n",
      "Diabetes_012            float64\n",
      "HighBP                  float64\n",
      "HighChol                float64\n",
      "CholCheck               float64\n",
      "BMI                     float64\n",
      "Smoker                  float64\n",
      "Stroke                  float64\n",
      "HeartDiseaseorAttack    float64\n",
      "PhysActivity            float64\n",
      "Fruits                  float64\n",
      "Veggies                 float64\n",
      "HvyAlcoholConsump       float64\n",
      "AnyHealthcare           float64\n",
      "NoDocbcCost             float64\n",
      "GenHlth                 float64\n",
      "MentHlth                float64\n",
      "PhysHlth                float64\n",
      "DiffWalk                float64\n",
      "Sex                     float64\n",
      "Age                     float64\n",
      "Education               float64\n",
      "Income                  float64\n",
      "dtype: object\n",
      "        Diabetes_012         HighBP       HighChol      CholCheck  \\\n",
      "count  229781.000000  229781.000000  229781.000000  229781.000000   \n",
      "mean        0.325627       0.454441       0.441760       0.959535   \n",
      "std         0.724623       0.497921       0.496598       0.197047   \n",
      "min         0.000000       0.000000       0.000000       0.000000   \n",
      "25%         0.000000       0.000000       0.000000       1.000000   \n",
      "50%         0.000000       0.000000       0.000000       1.000000   \n",
      "75%         0.000000       1.000000       1.000000       1.000000   \n",
      "max         2.000000       1.000000       1.000000       1.000000   \n",
      "\n",
      "                BMI         Smoker         Stroke  HeartDiseaseorAttack  \\\n",
      "count  229781.00000  229781.000000  229781.000000         229781.000000   \n",
      "mean       28.68567       0.465661       0.044756              0.103216   \n",
      "std         6.78636       0.498821       0.206767              0.304241   \n",
      "min        12.00000       0.000000       0.000000              0.000000   \n",
      "25%        24.00000       0.000000       0.000000              0.000000   \n",
      "50%        27.00000       0.000000       0.000000              0.000000   \n",
      "75%        32.00000       1.000000       0.000000              0.000000   \n",
      "max        98.00000       1.000000       1.000000              1.000000   \n",
      "\n",
      "        PhysActivity         Fruits  ...  AnyHealthcare    NoDocbcCost  \\\n",
      "count  229781.000000  229781.000000  ...  229781.000000  229781.000000   \n",
      "mean        0.733355       0.612966  ...       0.946075       0.092810   \n",
      "std         0.442206       0.487073  ...       0.225871       0.290167   \n",
      "min         0.000000       0.000000  ...       0.000000       0.000000   \n",
      "25%         0.000000       0.000000  ...       1.000000       0.000000   \n",
      "50%         1.000000       1.000000  ...       1.000000       0.000000   \n",
      "75%         1.000000       1.000000  ...       1.000000       0.000000   \n",
      "max         1.000000       1.000000  ...       1.000000       1.000000   \n",
      "\n",
      "             GenHlth       MentHlth       PhysHlth       DiffWalk  \\\n",
      "count  229781.000000  229781.000000  229781.000000  229781.000000   \n",
      "mean        2.601151       3.505373       4.675178       0.185507   \n",
      "std         1.064685       7.713725       9.046568       0.388709   \n",
      "min         1.000000       0.000000       0.000000       0.000000   \n",
      "25%         2.000000       0.000000       0.000000       0.000000   \n",
      "50%         3.000000       0.000000       0.000000       0.000000   \n",
      "75%         3.000000       2.000000       4.000000       0.000000   \n",
      "max         5.000000      30.000000      30.000000       1.000000   \n",
      "\n",
      "                 Sex            Age      Education         Income  \n",
      "count  229781.000000  229781.000000  229781.000000  229781.000000  \n",
      "mean        0.439231       8.086582       4.980568       5.890383  \n",
      "std         0.496295       3.093809       0.992895       2.092477  \n",
      "min         0.000000       1.000000       1.000000       1.000000  \n",
      "25%         0.000000       6.000000       4.000000       5.000000  \n",
      "50%         0.000000       8.000000       5.000000       6.000000  \n",
      "75%         1.000000      10.000000       6.000000       8.000000  \n",
      "max         1.000000      13.000000       6.000000       8.000000  \n",
      "\n",
      "[8 rows x 22 columns]\n"
     ]
    },
    {
     "data": {
      "text/plain": [
       "<Figure size 640x480 with 1 Axes>"
      ],
      "image/png": "[encoded data removed]"
     },
     "metadata": {},
     "output_type": "display_data"
    },
    {
     "data": {
      "text/plain": [
       "<Figure size 640x480 with 1 Axes>"
      ],
      "image/png": "[encoded data removed]"
     },
     "metadata": {},
     "output_type": "display_data"
    },
    {
     "data": {
      "text/plain": [
       "<Figure size 640x480 with 1 Axes>"
      ],
      "image/png": "[encoded data removed]"
     },
     "metadata": {},
     "output_type": "display_data"
    },
    {
     "name": "stdout",
     "output_type": "stream",
     "text": [
      "OG dataset shape: (229781, 22)\n",
      "Filtered dataset shape: (5638, 22)\n"
     ]
    }
   ],
   "execution_count": 40
  },
  {
   "metadata": {
    "ExecuteTime": {
     "end_time": "2024-12-05T21:49:54.854151Z",
     "start_time": "2024-12-05T21:49:54.851469Z"
    }
   },
   "cell_type": "code",
   "source": "\n",
   "id": "b25c4a25e2cebaf",
   "outputs": [
    {
     "name": "stdout",
     "output_type": "stream",
     "text": [
      "<class 'pandas.core.frame.DataFrame'>\n"
     ]
    }
   ],
   "execution_count": 8
  },
  {
   "metadata": {},
   "cell_type": "markdown",
   "source": [
    "### Question 3 — (20 points)\n",
    "\n",
    "Perform exploratory data analysis. Ensure that you analyze the relationships between the various features and social determinants of health in the dataset, and the diabetic outcomes. Create visualizations to demonstrate your findings and explain the results.\n"
   ],
   "id": "338734cb6bb75b27"
  },
  {
   "metadata": {},
   "cell_type": "code",
   "outputs": [],
   "execution_count": null,
   "source": "",
   "id": "722cab8147accbb0"
  },
  {
   "metadata": {},
   "cell_type": "markdown",
   "source": [
    "### Question 4a — (20 points)\n",
    "\n",
    "Perform significance tests to determine if the patterns that are detected above are statistically significant. Ensure that you discuss at least three patterns and the respective p-values.\n",
    "Select the features that will be used in the ML models (i.e. your selected features should be based on analytical reasoning that demonstrates their utility for ML modeling. Do not arbitrarily select features.\n",
    "Note: if you are using correlations, ensure that this is only performed using continuous variables.\n"
   ],
   "id": "b2ae8b83bff50a07"
  },
  {
   "metadata": {},
   "cell_type": "code",
   "outputs": [],
   "execution_count": null,
   "source": "",
   "id": "73e77267c3bcf385"
  },
  {
   "metadata": {},
   "cell_type": "markdown",
   "source": [
    "### [Optional] Question 4b — (10 points)\n",
    "This is an optional challenge question. Its purpose is to identify new features that can be included in the ML modeling below.\n",
    "\n",
    "Perform ONE of the following\n",
    "(1) Feature engineering: Machine learning models can benefit greatly from feature engineering. Create a new feature that can be included in the model and perform significance testing to determine if it's statistically significant. Explain the results and justify if the feature will be included in the ML model. If you decide that you will not include the new feature in the ML model, explain the reasons.\n",
    "OR\n",
    "(2) Statistical tests: Research a new type of statistical test that was not introduced in the lecture and write python code to demonstrate at least two significance tests between features in the dataset. Explain the results and justify if the feature will be included in the ML model. If you decide that you will not include the analyzed feature(s) in the ML model, explain the reasons. Note: you are welcome to use libraries to perform the tests."
   ],
   "id": "b9eaac3729bc38ad"
  },
  {
   "metadata": {},
   "cell_type": "code",
   "outputs": [],
   "execution_count": null,
   "source": "",
   "id": "4de0296342eb9ae6"
  },
  {
   "metadata": {},
   "cell_type": "markdown",
   "source": [
    "### Question 5 — (5 points)\n",
    "\n",
    "Partition the data into train/test sets. After which, perform the following:\n",
    "encode any categorical data. Ensure that categorical variables are represented correctly.\n",
    "normalize numeric data.\n",
    "Tip: Ensure that you use sklearn to normalize and/or encode the training data, after which transform the test set (there is an example in the lecture).\n"
   ],
   "id": "aaacdf2b4387c815"
  },
  {
   "metadata": {},
   "cell_type": "code",
   "outputs": [],
   "execution_count": null,
   "source": "",
   "id": "bcdd7f591d4a642e"
  },
  {
   "metadata": {},
   "cell_type": "markdown",
   "source": [
    "### Question 6 — (30 points)\n",
    "\n",
    "Build the ML model that predicts the target variable based on the selected features. Ensure that you:\n",
    "Demonstrate the training, evaluation and tuning for at least three algorithms that can handle non linear data and multiple input features/variables. NOTE: you can only select one tree-based algorithm and you must select multiple input features for the ML modeling.\n",
    "Use GridSearchCV to tune at least two hyperparameters for each algorithm.\n",
    "Note: do not change the input features in your experiments.\n"
   ],
   "id": "72080ea2422f221c"
  },
  {
   "metadata": {},
   "cell_type": "code",
   "outputs": [],
   "execution_count": null,
   "source": "",
   "id": "4760a094823d33b2"
  },
  {
   "metadata": {},
   "cell_type": "markdown",
   "source": [
    "### Question 7 — (15 points)\n",
    "\n",
    "Analyze the evaluated models. For each algorithm, ensure that you:\n",
    "Display: 1) the best model and 2) the best score that was obtained.\n",
    "Evaluate the scores from GridSearchCV for the training set and the test set to diagnose any bias-variance problems. Comment on the quality of the model.\n",
    "NOTE: seeing that you are analyzing healthcare data, ensure that you discuss what is the desired metric to evaluate the results based on the machine learning task e.g. accuracy, precision, recall, f1-score, MSE, R2, etc."
   ],
   "id": "e6ae3b13af08ea1c"
  },
  {
   "metadata": {},
   "cell_type": "code",
   "outputs": [],
   "execution_count": null,
   "source": "",
   "id": "61801522e8635bc9"
  },
  {
   "metadata": {},
   "cell_type": "markdown",
   "source": [
    "### Question 8 — (5 points)\n",
    "\n",
    "Discuss the potential impacts of your solution. Who will benefit from (and/or who will be affected by) your solution and why.\n",
    "Were there any concerns of bias in the ML modeling seeing that you were analyzing sensitive data? Create visualizations to share any analysis of bias in the training data and/or the predictions from the model. For example: you can compare and contrast the predictions for specific groups to demonstrate your findings. Provide recommendations on techniques to address any issues that were found.\n",
    "Note: you are welcome to use libraries to perform the analysis.\n"
   ],
   "id": "8247a091982d5d9f"
  },
  {
   "metadata": {},
   "cell_type": "code",
   "outputs": [],
   "execution_count": null,
   "source": "",
   "id": "4d054872fbe18fc6"
  },
  {
   "metadata": {},
   "cell_type": "markdown",
   "source": [
    "Note:\n",
    "\n",
    "Ensure that all visualizations have a title and label both the x and y axes; all numeric calculations should be rounded to 2 decimal places.\n",
    "Use markdown cells to explain your observations about the data.\n",
    "Include the names of all teammates on all submissions\n",
    "Ensure that your Python code is in a code cell and that it executes without errors."
   ],
   "id": "766a2122a110e1b8"
  }
 ],
 "metadata": {
  "kernelspec": {
   "display_name": "Python 3",
   "language": "python",
   "name": "python3"
  },
  "language_info": {
   "codemirror_mode": {
    "name": "ipython",
    "version": 2
   },
   "file_extension": ".py",
   "mimetype": "text/x-python",
   "name": "python",
   "nbconvert_exporter": "python",
   "pygments_lexer": "ipython2",
   "version": "2.7.6"
  }
 },
 "nbformat": 4,
 "nbformat_minor": 5
}
